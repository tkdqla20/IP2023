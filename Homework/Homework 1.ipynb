{
 "cells": [
  {
   "cell_type": "markdown",
   "metadata": {},
   "source": [
    "Homework 1"
   ]
  },
  {
   "cell_type": "code",
   "execution_count": 1,
   "metadata": {},
   "outputs": [],
   "source": [
    "import cv2\n",
    "import numpy as np"
   ]
  },
  {
   "cell_type": "code",
   "execution_count": 2,
   "metadata": {},
   "outputs": [],
   "source": [
    "start_x, start_y, end_x, end_y = -1, -1, -1, -1\n",
    "drawing = False\n",
    "\n",
    "def draw_rectangle(event, x, y, flags, param):\n",
    "    global start_x, start_y, end_x, end_y, drawing, img\n",
    "\n",
    "    if event == cv2.EVENT_LBUTTONDOWN:\n",
    "        drawing = True\n",
    "        start_x, start_y = x, y\n",
    "        end_x, end_y = x, y\n",
    "\n",
    "    elif event == cv2.EVENT_MOUSEMOVE:\n",
    "        if drawing:\n",
    "            end_x, end_y = x, y\n",
    "\n",
    "    elif event == cv2.EVENT_LBUTTONUP:\n",
    "        drawing = False\n",
    "        end_x, end_y = x, y\n",
    "\n",
    "        color = (0, 0, 255, 128)\n",
    "        thickness = -1\n",
    "        overlay = img.copy()\n",
    "        cv2.rectangle(overlay, (start_x, start_y), (end_x, end_y), color, thickness)\n",
    "        cv2.addWeighted(overlay, 0.5, img, 0.5, 0, img)\n",
    "\n",
    "        font = cv2.FONT_HERSHEY_SIMPLEX\n",
    "        text = f'Start: ({start_x}, {start_y}), End: ({end_x}, {end_y})'\n",
    "        cv2.putText(img, text, (10, 30), font, 1, (255, 255, 255), 2)\n",
    "\n",
    "image_path = 'Homework 1 - image.jpg'\n",
    "img = cv2.imread(image_path)\n",
    "\n",
    "desired_width = 1680\n",
    "desired_height = 1000\n",
    "img = cv2.resize(img, (desired_width, desired_height))\n",
    "\n",
    "cv2.namedWindow('Everest Image')\n",
    "cv2.setMouseCallback('Everest Image', draw_rectangle)\n",
    "    \n",
    "while True:\n",
    "    cv2.imshow('Everest Image', img)\n",
    "    if cv2.waitKey(20) & 0xFF == 27:\n",
    "        break\n",
    "\n",
    "cv2.destroyAllWindows()"
   ]
  }
 ],
 "metadata": {
  "kernelspec": {
   "display_name": "base",
   "language": "python",
   "name": "python3"
  },
  "language_info": {
   "codemirror_mode": {
    "name": "ipython",
    "version": 3
   },
   "file_extension": ".py",
   "mimetype": "text/x-python",
   "name": "python",
   "nbconvert_exporter": "python",
   "pygments_lexer": "ipython3",
   "version": "3.11.5"
  }
 },
 "nbformat": 4,
 "nbformat_minor": 2
}
