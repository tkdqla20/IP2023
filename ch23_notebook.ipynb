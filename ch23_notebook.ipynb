{
 "cells": [
  {
   "cell_type": "code",
   "execution_count": 1,
   "metadata": {
    "collapsed": false
   },
   "outputs": [
    {
     "ename": "ImportError",
     "evalue": "No module named 'pydot'",
     "output_type": "error",
     "traceback": [
      "\u001b[0;31m---------------------------------------------------------------------------\u001b[0m",
      "\u001b[0;31mImportError\u001b[0m                               Traceback (most recent call last)",
      "\u001b[0;32m<ipython-input-1-7bd1483be452>\u001b[0m in \u001b[0;36m<module>\u001b[0;34m()\u001b[0m\n\u001b[1;32m      6\u001b[0m \u001b[1;32mfrom\u001b[0m \u001b[0mPCV\u001b[0m\u001b[1;33m.\u001b[0m\u001b[0mtools\u001b[0m \u001b[1;32mimport\u001b[0m \u001b[0mimtools\u001b[0m\u001b[1;33m\u001b[0m\u001b[0m\n\u001b[1;32m      7\u001b[0m \u001b[1;33m\u001b[0m\u001b[0m\n\u001b[0;32m----> 8\u001b[0;31m \u001b[1;32mimport\u001b[0m \u001b[0mpydot\u001b[0m\u001b[1;33m\u001b[0m\u001b[0m\n\u001b[0m",
      "\u001b[0;31mImportError\u001b[0m: No module named 'pydot'"
     ]
    }
   ],
   "source": [
    "from pylab import *\n",
    "from numpy import *\n",
    "from PIL import Image\n",
    "\n",
    "from PCV.localdescriptors import sift\n",
    "from PCV.tools import imtools\n",
    "\n",
    "import pydot"
   ]
  },
  {
   "cell_type": "code",
   "execution_count": null,
   "metadata": {
    "collapsed": true
   },
   "outputs": [],
   "source": [
    "\"\"\"\n",
    "This is the example graph illustration of matching images from Figure 2-10.\n",
    "To download the images, see ch2_download_panoramio.py.\n",
    "\"\"\"\n",
    "\n",
    "download_path = \"panoimages\" # set this to the path where you downloaded the panoramio images\n",
    "path = \"/FULLPATH/panoimages/\" # path to save thumbnails (pydot needs the full system path)\n",
    "\n",
    "# list of downloaded filenames\n",
    "imlist = imtools.get_imlist(download_path)\n",
    "nbr_images = len(imlist)\n",
    "\n",
    "# extract features\n",
    "featlist = [imname[:-3]+'sift' for imname in imlist]\n",
    "for i,imname in enumerate(imlist):\n",
    "    sift.process_image(imname, featlist[i])"
   ]
  },
  {
   "cell_type": "code",
   "execution_count": null,
   "metadata": {
    "collapsed": true
   },
   "outputs": [],
   "source": [
    "matchscores = zeros((nbr_images,nbr_images))\n",
    "\n",
    "for i in range(nbr_images):\n",
    "    for j in range(i,nbr_images): # only compute upper triangle\n",
    "        print 'comparing ', imlist[i], imlist[j]\n",
    "        l1,d1 = sift.read_features_from_file(featlist[i]) \n",
    "        l2,d2 = sift.read_features_from_file(featlist[j])\n",
    "        matches = sift.match_twosided(d1,d2)\n",
    "        nbr_matches = sum(matches > 0)\n",
    "        print 'number of matches = ', nbr_matches \n",
    "        matchscores[i,j] = nbr_matches\n",
    "\n",
    "# copy values\n",
    "for i in range(nbr_images):\n",
    "    for j in range(i+1,nbr_images): # no need to copy diagonal\n",
    "        matchscores[j,i] = matchscores[i,j]\n",
    "\n",
    "threshold = 2 # min number of matches needed to create link"
   ]
  },
  {
   "cell_type": "code",
   "execution_count": 2,
   "metadata": {
    "collapsed": true
   },
   "outputs": [],
   "source": [
    "g = pydot.Dot(graph_type='graph') # don't want the default directed graph \n",
    "\n",
    "for i in range(nbr_images):\n",
    "    for j in range(i+1,nbr_images):\n",
    "        if matchscores[i,j] > threshold:\n",
    "            # first image in pair\n",
    "            im = Image.open(imlist[i])\n",
    "            im.thumbnail((100,100))\n",
    "            filename = path+str(i)+'.png'\n",
    "            im.save(filename) # need temporary files of the right size \n",
    "            g.add_node(pydot.Node(str(i),fontcolor='transparent',shape='rectangle',image=filename))\n",
    "    \n",
    "            # second image in pair\n",
    "            im = Image.open(imlist[j])\n",
    "            im.thumbnail((100,100))\n",
    "            filename = path+str(j)+'.png'\n",
    "            im.save(filename) # need temporary files of the right size \n",
    "            g.add_node(pydot.Node(str(j),fontcolor='transparent',shape='rectangle',image=filename)) \n",
    "            \n",
    "            g.add_edge(pydot.Edge(str(i),str(j)))\n",
    "\n",
    "g.write_png('whitehouse.png')"
   ]
  },
  {
   "cell_type": "code",
   "execution_count": null,
   "metadata": {
    "collapsed": true
   },
   "outputs": [],
   "source": []
  }
 ],
 "metadata": {
  "kernelspec": {
   "display_name": "Python 3",
   "language": "python",
   "name": "python3"
  },
  "language_info": {
   "codemirror_mode": {
    "name": "ipython",
    "version": 3
   },
   "file_extension": ".py",
   "mimetype": "text/x-python",
   "name": "python",
   "nbconvert_exporter": "python",
   "pygments_lexer": "ipython3",
   "version": "3.5.2"
  }
 },
 "nbformat": 4,
 "nbformat_minor": 2
}
